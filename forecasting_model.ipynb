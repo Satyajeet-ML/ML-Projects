{
  "nbformat": 4,
  "nbformat_minor": 0,
  "metadata": {
    "colab": {
      "name": "forecasting_model.ipynb",
      "provenance": []
    },
    "kernelspec": {
      "name": "python3",
      "display_name": "Python 3"
    },
    "language_info": {
      "name": "python"
    }
  },
  "cells": [
    {
      "cell_type": "code",
      "execution_count": 1,
      "metadata": {
        "id": "dy846wxMysQU"
      },
      "outputs": [],
      "source": [
        "import pandas as pd\n",
        "import numpy as np\n",
        "import matplotlib.pyplot as plt"
      ]
    },
    {
      "cell_type": "code",
      "source": [
        "df=pd.read_csv('sales_qty.csv',parse_dates=True,index_col='dates',dayfirst=True)\n",
        "df.head()"
      ],
      "metadata": {
        "colab": {
          "base_uri": "https://localhost:8080/",
          "height": 237
        },
        "id": "iUx-_a4jZovH",
        "outputId": "0783e9d0-54d3-476a-9c52-79c2f6615578"
      },
      "execution_count": 5,
      "outputs": [
        {
          "output_type": "execute_result",
          "data": {
            "text/plain": [
              "            class1\n",
              "dates             \n",
              "2020-03-01      62\n",
              "2020-03-08      87\n",
              "2020-03-15      80\n",
              "2020-03-22      70\n",
              "2020-03-29      87"
            ],
            "text/html": [
              "\n",
              "  <div id=\"df-62fd2811-ac58-4560-a1fe-0dae2508a193\">\n",
              "    <div class=\"colab-df-container\">\n",
              "      <div>\n",
              "<style scoped>\n",
              "    .dataframe tbody tr th:only-of-type {\n",
              "        vertical-align: middle;\n",
              "    }\n",
              "\n",
              "    .dataframe tbody tr th {\n",
              "        vertical-align: top;\n",
              "    }\n",
              "\n",
              "    .dataframe thead th {\n",
              "        text-align: right;\n",
              "    }\n",
              "</style>\n",
              "<table border=\"1\" class=\"dataframe\">\n",
              "  <thead>\n",
              "    <tr style=\"text-align: right;\">\n",
              "      <th></th>\n",
              "      <th>class1</th>\n",
              "    </tr>\n",
              "    <tr>\n",
              "      <th>dates</th>\n",
              "      <th></th>\n",
              "    </tr>\n",
              "  </thead>\n",
              "  <tbody>\n",
              "    <tr>\n",
              "      <th>2020-03-01</th>\n",
              "      <td>62</td>\n",
              "    </tr>\n",
              "    <tr>\n",
              "      <th>2020-03-08</th>\n",
              "      <td>87</td>\n",
              "    </tr>\n",
              "    <tr>\n",
              "      <th>2020-03-15</th>\n",
              "      <td>80</td>\n",
              "    </tr>\n",
              "    <tr>\n",
              "      <th>2020-03-22</th>\n",
              "      <td>70</td>\n",
              "    </tr>\n",
              "    <tr>\n",
              "      <th>2020-03-29</th>\n",
              "      <td>87</td>\n",
              "    </tr>\n",
              "  </tbody>\n",
              "</table>\n",
              "</div>\n",
              "      <button class=\"colab-df-convert\" onclick=\"convertToInteractive('df-62fd2811-ac58-4560-a1fe-0dae2508a193')\"\n",
              "              title=\"Convert this dataframe to an interactive table.\"\n",
              "              style=\"display:none;\">\n",
              "        \n",
              "  <svg xmlns=\"http://www.w3.org/2000/svg\" height=\"24px\"viewBox=\"0 0 24 24\"\n",
              "       width=\"24px\">\n",
              "    <path d=\"M0 0h24v24H0V0z\" fill=\"none\"/>\n",
              "    <path d=\"M18.56 5.44l.94 2.06.94-2.06 2.06-.94-2.06-.94-.94-2.06-.94 2.06-2.06.94zm-11 1L8.5 8.5l.94-2.06 2.06-.94-2.06-.94L8.5 2.5l-.94 2.06-2.06.94zm10 10l.94 2.06.94-2.06 2.06-.94-2.06-.94-.94-2.06-.94 2.06-2.06.94z\"/><path d=\"M17.41 7.96l-1.37-1.37c-.4-.4-.92-.59-1.43-.59-.52 0-1.04.2-1.43.59L10.3 9.45l-7.72 7.72c-.78.78-.78 2.05 0 2.83L4 21.41c.39.39.9.59 1.41.59.51 0 1.02-.2 1.41-.59l7.78-7.78 2.81-2.81c.8-.78.8-2.07 0-2.86zM5.41 20L4 18.59l7.72-7.72 1.47 1.35L5.41 20z\"/>\n",
              "  </svg>\n",
              "      </button>\n",
              "      \n",
              "  <style>\n",
              "    .colab-df-container {\n",
              "      display:flex;\n",
              "      flex-wrap:wrap;\n",
              "      gap: 12px;\n",
              "    }\n",
              "\n",
              "    .colab-df-convert {\n",
              "      background-color: #E8F0FE;\n",
              "      border: none;\n",
              "      border-radius: 50%;\n",
              "      cursor: pointer;\n",
              "      display: none;\n",
              "      fill: #1967D2;\n",
              "      height: 32px;\n",
              "      padding: 0 0 0 0;\n",
              "      width: 32px;\n",
              "    }\n",
              "\n",
              "    .colab-df-convert:hover {\n",
              "      background-color: #E2EBFA;\n",
              "      box-shadow: 0px 1px 2px rgba(60, 64, 67, 0.3), 0px 1px 3px 1px rgba(60, 64, 67, 0.15);\n",
              "      fill: #174EA6;\n",
              "    }\n",
              "\n",
              "    [theme=dark] .colab-df-convert {\n",
              "      background-color: #3B4455;\n",
              "      fill: #D2E3FC;\n",
              "    }\n",
              "\n",
              "    [theme=dark] .colab-df-convert:hover {\n",
              "      background-color: #434B5C;\n",
              "      box-shadow: 0px 1px 3px 1px rgba(0, 0, 0, 0.15);\n",
              "      filter: drop-shadow(0px 1px 2px rgba(0, 0, 0, 0.3));\n",
              "      fill: #FFFFFF;\n",
              "    }\n",
              "  </style>\n",
              "\n",
              "      <script>\n",
              "        const buttonEl =\n",
              "          document.querySelector('#df-62fd2811-ac58-4560-a1fe-0dae2508a193 button.colab-df-convert');\n",
              "        buttonEl.style.display =\n",
              "          google.colab.kernel.accessAllowed ? 'block' : 'none';\n",
              "\n",
              "        async function convertToInteractive(key) {\n",
              "          const element = document.querySelector('#df-62fd2811-ac58-4560-a1fe-0dae2508a193');\n",
              "          const dataTable =\n",
              "            await google.colab.kernel.invokeFunction('convertToInteractive',\n",
              "                                                     [key], {});\n",
              "          if (!dataTable) return;\n",
              "\n",
              "          const docLinkHtml = 'Like what you see? Visit the ' +\n",
              "            '<a target=\"_blank\" href=https://colab.research.google.com/notebooks/data_table.ipynb>data table notebook</a>'\n",
              "            + ' to learn more about interactive tables.';\n",
              "          element.innerHTML = '';\n",
              "          dataTable['output_type'] = 'display_data';\n",
              "          await google.colab.output.renderOutput(dataTable, element);\n",
              "          const docLink = document.createElement('div');\n",
              "          docLink.innerHTML = docLinkHtml;\n",
              "          element.appendChild(docLink);\n",
              "        }\n",
              "      </script>\n",
              "    </div>\n",
              "  </div>\n",
              "  "
            ]
          },
          "metadata": {},
          "execution_count": 5
        }
      ]
    },
    {
      "cell_type": "code",
      "source": [
        "df.plot(figsize=(12,6))"
      ],
      "metadata": {
        "colab": {
          "base_uri": "https://localhost:8080/",
          "height": 417
        },
        "id": "2SFb6zffaDh_",
        "outputId": "c0debbee-f94a-46bf-c2b7-edc7c7618976"
      },
      "execution_count": 6,
      "outputs": [
        {
          "output_type": "execute_result",
          "data": {
            "text/plain": [
              "<matplotlib.axes._subplots.AxesSubplot at 0x7fda015073d0>"
            ]
          },
          "metadata": {},
          "execution_count": 6
        },
        {
          "output_type": "display_data",
          "data": {
            "text/plain": [
              "<Figure size 864x432 with 1 Axes>"
            ],
            "image/png": "[encoded data removed]"
          },
          "metadata": {
            "needs_background": "light"
          }
        }
      ]
    },
    {
      "cell_type": "code",
      "source": [
        "train = df.iloc[:95]\n",
        "test = df.iloc[95:]"
      ],
      "metadata": {
        "id": "NoA0nKaTcD6Q"
      },
      "execution_count": 94,
      "outputs": []
    },
    {
      "cell_type": "code",
      "source": [
        "from sklearn.preprocessing import MinMaxScaler\n",
        "scaler = MinMaxScaler()"
      ],
      "metadata": {
        "id": "9xNeo4jmcPJ2"
      },
      "execution_count": 95,
      "outputs": []
    },
    {
      "cell_type": "code",
      "source": [
        "scaler.fit(train)\n",
        "train_sc = scaler.transform(train)\n",
        "test_sc = scaler.transform(test)"
      ],
      "metadata": {
        "id": "jWz2e6dpcWfO"
      },
      "execution_count": 96,
      "outputs": []
    },
    {
      "cell_type": "code",
      "source": [
        "from keras.preprocessing.sequence import TimeseriesGenerator\n",
        "n_input = 7\n",
        "n_features = 1\n",
        "generator = TimeseriesGenerator(train_sc, train_sc, length=n_input, batch_size=1)"
      ],
      "metadata": {
        "id": "DYmFiynJcmdX"
      },
      "execution_count": 97,
      "outputs": []
    },
    {
      "cell_type": "code",
      "source": [
        "from keras.models import Sequential\n",
        "from keras.layers import Dense\n",
        "from keras.layers import LSTM"
      ],
      "metadata": {
        "id": "U-30vrwGe9qs"
      },
      "execution_count": 98,
      "outputs": []
    },
    {
      "cell_type": "code",
      "source": [
        "model = Sequential()\n",
        "model.add(LSTM(100, activation='relu',return_sequences=True, input_shape=(n_input, n_features)))\n",
        "model.add(LSTM(150, activation='relu',return_sequences=True))\n",
        "model.add(LSTM(150, activation='relu',return_sequences=True))\n",
        "model.add(LSTM(150, activation='relu'))\n",
        "model.add(Dense(1))\n",
        "model.compile(optimizer='adam', loss='mse')"
      ],
      "metadata": {
        "id": "4wdHZRRnfNjS"
      },
      "execution_count": 99,
      "outputs": []
    },
    {
      "cell_type": "code",
      "source": [
        "model.summary()"
      ],
      "metadata": {
        "colab": {
          "base_uri": "https://localhost:8080/"
        },
        "id": "Vmabn8hMfd2G",
        "outputId": "65513b4c-a69e-4b60-ef64-e7a78637ec62"
      },
      "execution_count": 100,
      "outputs": [
        {
          "output_type": "stream",
          "name": "stdout",
          "text": [
            "Model: \"sequential_5\"\n",
            "_________________________________________________________________\n",
            " Layer (type)                Output Shape              Param #   \n",
            "=================================================================\n",
            " lstm_17 (LSTM)              (None, 7, 100)            40800     \n",
            "                                                                 \n",
            " lstm_18 (LSTM)              (None, 7, 150)            150600    \n",
            "                                                                 \n",
            " lstm_19 (LSTM)              (None, 7, 150)            180600    \n",
            "                                                                 \n",
            " lstm_20 (LSTM)              (None, 150)               180600    \n",
            "                                                                 \n",
            " dense_5 (Dense)             (None, 1)                 151       \n",
            "                                                                 \n",
            "=================================================================\n",
            "Total params: 552,751\n",
            "Trainable params: 552,751\n",
            "Non-trainable params: 0\n",
            "_________________________________________________________________\n"
          ]
        }
      ]
    },
    {
      "cell_type": "code",
      "source": [
        "model.fit(generator,epochs=300)"
      ],
      "metadata": {
        "colab": {
          "base_uri": "https://localhost:8080/"
        },
        "id": "2upIJJxNfh5z",
        "outputId": "13ebd02d-fac7-4d68-e453-de14c4a1b1b4"
      },
      "execution_count": 101,
      "outputs": [
        {
          "output_type": "stream",
          "name": "stdout",
          "text": [
            "Epoch 1/300\n",
            "88/88 [==============================] - 6s 20ms/step - loss: 0.0839\n",
            "Epoch 2/300\n",
            "88/88 [==============================] - 2s 21ms/step - loss: 0.0641\n",
            "Epoch 3/300\n",
            "88/88 [==============================] - 2s 21ms/step - loss: 0.0646\n",
            "Epoch 4/300\n",
            "88/88 [==============================] - 2s 21ms/step - loss: 0.0607\n",
            "Epoch 5/300\n",
            "88/88 [==============================] - 2s 21ms/step - loss: 0.0552\n",
            "Epoch 6/300\n",
            "88/88 [==============================] - 2s 21ms/step - loss: 0.0555\n",
            "Epoch 7/300\n",
            "88/88 [==============================] - 2s 21ms/step - loss: 0.0509\n",
            "Epoch 8/300\n",
            "88/88 [==============================] - 2s 21ms/step - loss: 0.0602\n",
            "Epoch 9/300\n",
            "88/88 [==============================] - 2s 21ms/step - loss: 0.0549\n",
            "Epoch 10/300\n",
            "88/88 [==============================] - 2s 21ms/step - loss: 0.0469\n",
            "Epoch 11/300\n",
            "88/88 [==============================] - 2s 21ms/step - loss: 0.0340\n",
            "Epoch 12/300\n",
            "88/88 [==============================] - 2s 22ms/step - loss: 0.0352\n",
            "Epoch 13/300\n",
            "88/88 [==============================] - 2s 20ms/step - loss: 0.0326\n",
            "Epoch 14/300\n",
            "88/88 [==============================] - 2s 22ms/step - loss: 0.0313\n",
            "Epoch 15/300\n",
            "88/88 [==============================] - 2s 21ms/step - loss: 0.0331\n",
            "Epoch 16/300\n",
            "88/88 [==============================] - 2s 20ms/step - loss: 0.0258\n",
            "Epoch 17/300\n",
            "88/88 [==============================] - 2s 21ms/step - loss: 0.0293\n",
            "Epoch 18/300\n",
            "88/88 [==============================] - 2s 20ms/step - loss: 0.0276\n",
            "Epoch 19/300\n",
            "88/88 [==============================] - 2s 21ms/step - loss: 0.0455\n",
            "Epoch 20/300\n",
            "88/88 [==============================] - 2s 21ms/step - loss: 0.0298\n",
            "Epoch 21/300\n",
            "88/88 [==============================] - 2s 21ms/step - loss: 0.0331\n",
            "Epoch 22/300\n",
            "88/88 [==============================] - 2s 20ms/step - loss: 0.0262\n",
            "Epoch 23/300\n",
            "88/88 [==============================] - 2s 22ms/step - loss: 0.0249\n",
            "Epoch 24/300\n",
            "88/88 [==============================] - 2s 20ms/step - loss: 0.0258\n",
            "Epoch 25/300\n",
            "88/88 [==============================] - 2s 21ms/step - loss: 0.0284\n",
            "Epoch 26/300\n",
            "88/88 [==============================] - 2s 21ms/step - loss: 0.0247\n",
            "Epoch 27/300\n",
            "88/88 [==============================] - 2s 21ms/step - loss: 0.0273\n",
            "Epoch 28/300\n",
            "88/88 [==============================] - 2s 21ms/step - loss: 0.0235\n",
            "Epoch 29/300\n",
            "88/88 [==============================] - 2s 21ms/step - loss: 0.0251\n",
            "Epoch 30/300\n",
            "88/88 [==============================] - 2s 21ms/step - loss: 0.0243\n",
            "Epoch 31/300\n",
            "88/88 [==============================] - 2s 21ms/step - loss: 0.0231\n",
            "Epoch 32/300\n",
            "88/88 [==============================] - 2s 21ms/step - loss: 0.0242\n",
            "Epoch 33/300\n",
            "88/88 [==============================] - 2s 21ms/step - loss: 0.0257\n",
            "Epoch 34/300\n",
            "88/88 [==============================] - 2s 21ms/step - loss: 0.0251\n",
            "Epoch 35/300\n",
            "88/88 [==============================] - 2s 21ms/step - loss: 0.0222\n",
            "Epoch 36/300\n",
            "88/88 [==============================] - 2s 21ms/step - loss: 0.0263\n",
            "Epoch 37/300\n",
            "88/88 [==============================] - 2s 20ms/step - loss: 0.0227\n",
            "Epoch 38/300\n",
            "88/88 [==============================] - 2s 21ms/step - loss: 0.0242\n",
            "Epoch 39/300\n",
            "88/88 [==============================] - 2s 23ms/step - loss: 0.0248\n",
            "Epoch 40/300\n",
            "88/88 [==============================] - 2s 21ms/step - loss: 0.0227\n",
            "Epoch 41/300\n",
            "88/88 [==============================] - 2s 20ms/step - loss: 0.0223\n",
            "Epoch 42/300\n",
            "88/88 [==============================] - 2s 21ms/step - loss: 0.0234\n",
            "Epoch 43/300\n",
            "88/88 [==============================] - 2s 21ms/step - loss: 0.0220\n",
            "Epoch 44/300\n",
            "88/88 [==============================] - 2s 21ms/step - loss: 0.0229\n",
            "Epoch 45/300\n",
            "88/88 [==============================] - 2s 20ms/step - loss: 0.0242\n",
            "Epoch 46/300\n",
            "88/88 [==============================] - 2s 20ms/step - loss: 0.0224\n",
            "Epoch 47/300\n",
            "88/88 [==============================] - 2s 21ms/step - loss: 0.0211\n",
            "Epoch 48/300\n",
            "88/88 [==============================] - 2s 21ms/step - loss: 0.0249\n",
            "Epoch 49/300\n",
            "88/88 [==============================] - 2s 21ms/step - loss: 0.0200\n",
            "Epoch 50/300\n",
            "88/88 [==============================] - 2s 21ms/step - loss: 0.0217\n",
            "Epoch 51/300\n",
            "88/88 [==============================] - 2s 21ms/step - loss: 0.0196\n",
            "Epoch 52/300\n",
            "88/88 [==============================] - 2s 21ms/step - loss: 0.0212\n",
            "Epoch 53/300\n",
            "88/88 [==============================] - 2s 21ms/step - loss: 0.0222\n",
            "Epoch 54/300\n",
            "88/88 [==============================] - 2s 23ms/step - loss: 0.0205\n",
            "Epoch 55/300\n",
            "88/88 [==============================] - 2s 20ms/step - loss: 0.0207\n",
            "Epoch 56/300\n",
            "88/88 [==============================] - 2s 21ms/step - loss: 0.0178\n",
            "Epoch 57/300\n",
            "88/88 [==============================] - 2s 21ms/step - loss: 0.0193\n",
            "Epoch 58/300\n",
            "88/88 [==============================] - 2s 21ms/step - loss: 0.0173\n",
            "Epoch 59/300\n",
            "88/88 [==============================] - 2s 21ms/step - loss: 0.0198\n",
            "Epoch 60/300\n",
            "88/88 [==============================] - 2s 21ms/step - loss: 0.0194\n",
            "Epoch 61/300\n",
            "88/88 [==============================] - 2s 21ms/step - loss: 0.0181\n",
            "Epoch 62/300\n",
            "88/88 [==============================] - 2s 21ms/step - loss: 0.0172\n",
            "Epoch 63/300\n",
            "88/88 [==============================] - 2s 23ms/step - loss: 0.0174\n",
            "Epoch 64/300\n",
            "88/88 [==============================] - 2s 23ms/step - loss: 0.0171\n",
            "Epoch 65/300\n",
            "88/88 [==============================] - 2s 21ms/step - loss: 0.0181\n",
            "Epoch 66/300\n",
            "88/88 [==============================] - 2s 21ms/step - loss: 0.0194\n",
            "Epoch 67/300\n",
            "88/88 [==============================] - 2s 23ms/step - loss: 0.0181\n",
            "Epoch 68/300\n",
            "88/88 [==============================] - 2s 21ms/step - loss: 0.0174\n",
            "Epoch 69/300\n",
            "88/88 [==============================] - 2s 21ms/step - loss: 0.0168\n",
            "Epoch 70/300\n",
            "88/88 [==============================] - 2s 20ms/step - loss: 0.0171\n",
            "Epoch 71/300\n",
            "88/88 [==============================] - 2s 21ms/step - loss: 0.0180\n",
            "Epoch 72/300\n",
            "88/88 [==============================] - 2s 21ms/step - loss: 0.0168\n",
            "Epoch 73/300\n",
            "88/88 [==============================] - 2s 21ms/step - loss: 0.0167\n",
            "Epoch 74/300\n",
            "88/88 [==============================] - 2s 21ms/step - loss: 0.0164\n",
            "Epoch 75/300\n",
            "88/88 [==============================] - 2s 21ms/step - loss: 0.0171\n",
            "Epoch 76/300\n",
            "88/88 [==============================] - 2s 21ms/step - loss: 0.0180\n",
            "Epoch 77/300\n",
            "88/88 [==============================] - 2s 21ms/step - loss: 0.0182\n",
            "Epoch 78/300\n",
            "88/88 [==============================] - 2s 21ms/step - loss: 0.0166\n",
            "Epoch 79/300\n",
            "88/88 [==============================] - 2s 21ms/step - loss: 0.0177\n",
            "Epoch 80/300\n",
            "88/88 [==============================] - 2s 22ms/step - loss: 0.0168\n",
            "Epoch 81/300\n",
            "88/88 [==============================] - 2s 20ms/step - loss: 0.0194\n",
            "Epoch 82/300\n",
            "88/88 [==============================] - 2s 21ms/step - loss: 0.0201\n",
            "Epoch 83/300\n",
            "88/88 [==============================] - 2s 21ms/step - loss: 0.0201\n",
            "Epoch 84/300\n",
            "88/88 [==============================] - 2s 20ms/step - loss: 0.0180\n",
            "Epoch 85/300\n",
            "88/88 [==============================] - 2s 21ms/step - loss: 0.0164\n",
            "Epoch 86/300\n",
            "88/88 [==============================] - 2s 21ms/step - loss: 0.0155\n",
            "Epoch 87/300\n",
            "88/88 [==============================] - 2s 21ms/step - loss: 0.0160\n",
            "Epoch 88/300\n",
            "88/88 [==============================] - 2s 21ms/step - loss: 0.0153\n",
            "Epoch 89/300\n",
            "88/88 [==============================] - 2s 21ms/step - loss: 0.0165\n",
            "Epoch 90/300\n",
            "88/88 [==============================] - 2s 21ms/step - loss: 0.0159\n",
            "Epoch 91/300\n",
            "88/88 [==============================] - 2s 21ms/step - loss: 0.0152\n",
            "Epoch 92/300\n",
            "88/88 [==============================] - 2s 21ms/step - loss: 0.0177\n",
            "Epoch 93/300\n",
            "88/88 [==============================] - 2s 21ms/step - loss: 0.0159\n",
            "Epoch 94/300\n",
            "88/88 [==============================] - 2s 21ms/step - loss: 0.0161\n",
            "Epoch 95/300\n",
            "88/88 [==============================] - 2s 21ms/step - loss: 0.0162\n",
            "Epoch 96/300\n",
            "88/88 [==============================] - 2s 21ms/step - loss: 0.0156\n",
            "Epoch 97/300\n",
            "88/88 [==============================] - 2s 21ms/step - loss: 0.0172\n",
            "Epoch 98/300\n",
            "88/88 [==============================] - 2s 21ms/step - loss: 0.0154\n",
            "Epoch 99/300\n",
            "88/88 [==============================] - 2s 21ms/step - loss: 0.0161\n",
            "Epoch 100/300\n",
            "88/88 [==============================] - 2s 21ms/step - loss: 0.0167\n",
            "Epoch 101/300\n",
            "88/88 [==============================] - 2s 21ms/step - loss: 0.0153\n",
            "Epoch 102/300\n",
            "88/88 [==============================] - 2s 21ms/step - loss: 0.0155\n",
            "Epoch 103/300\n",
            "88/88 [==============================] - 2s 21ms/step - loss: 0.0167\n",
            "Epoch 104/300\n",
            "88/88 [==============================] - 2s 22ms/step - loss: 0.0191\n",
            "Epoch 105/300\n",
            "88/88 [==============================] - 2s 21ms/step - loss: 0.0143\n",
            "Epoch 106/300\n",
            "88/88 [==============================] - 2s 23ms/step - loss: 0.0169\n",
            "Epoch 107/300\n",
            "88/88 [==============================] - 2s 21ms/step - loss: 0.0179\n",
            "Epoch 108/300\n",
            "88/88 [==============================] - 2s 21ms/step - loss: 0.0149\n",
            "Epoch 109/300\n",
            "88/88 [==============================] - 2s 21ms/step - loss: 0.0150\n",
            "Epoch 110/300\n",
            "88/88 [==============================] - 2s 20ms/step - loss: 0.0146\n",
            "Epoch 111/300\n",
            "88/88 [==============================] - 2s 21ms/step - loss: 0.0137\n",
            "Epoch 112/300\n",
            "88/88 [==============================] - 2s 21ms/step - loss: 0.0140\n",
            "Epoch 113/300\n",
            "88/88 [==============================] - 2s 22ms/step - loss: 0.0151\n",
            "Epoch 114/300\n",
            "88/88 [==============================] - 2s 21ms/step - loss: 0.0150\n",
            "Epoch 115/300\n",
            "88/88 [==============================] - 2s 21ms/step - loss: 0.0143\n",
            "Epoch 116/300\n",
            "88/88 [==============================] - 2s 22ms/step - loss: 0.0136\n",
            "Epoch 117/300\n",
            "88/88 [==============================] - 2s 21ms/step - loss: 0.0147\n",
            "Epoch 118/300\n",
            "88/88 [==============================] - 2s 21ms/step - loss: 0.0144\n",
            "Epoch 119/300\n",
            "88/88 [==============================] - 2s 21ms/step - loss: 0.0142\n",
            "Epoch 120/300\n",
            "88/88 [==============================] - 2s 21ms/step - loss: 0.0130\n",
            "Epoch 121/300\n",
            "88/88 [==============================] - 2s 21ms/step - loss: 0.0142\n",
            "Epoch 122/300\n",
            "88/88 [==============================] - 2s 20ms/step - loss: 0.0159\n",
            "Epoch 123/300\n",
            "88/88 [==============================] - 2s 21ms/step - loss: 0.0157\n",
            "Epoch 124/300\n",
            "88/88 [==============================] - 2s 21ms/step - loss: 0.0144\n",
            "Epoch 125/300\n",
            "88/88 [==============================] - 2s 22ms/step - loss: 0.0141\n",
            "Epoch 126/300\n",
            "88/88 [==============================] - 2s 21ms/step - loss: 0.0135\n",
            "Epoch 127/300\n",
            "88/88 [==============================] - 2s 21ms/step - loss: 0.0139\n",
            "Epoch 128/300\n",
            "88/88 [==============================] - 2s 21ms/step - loss: 0.0142\n",
            "Epoch 129/300\n",
            "88/88 [==============================] - 2s 21ms/step - loss: 0.0147\n",
            "Epoch 130/300\n",
            "88/88 [==============================] - 2s 21ms/step - loss: 0.0135\n",
            "Epoch 131/300\n",
            "88/88 [==============================] - 2s 21ms/step - loss: 0.0153\n",
            "Epoch 132/300\n",
            "88/88 [==============================] - 2s 21ms/step - loss: 0.0148\n",
            "Epoch 133/300\n",
            "88/88 [==============================] - 2s 21ms/step - loss: 0.0133\n",
            "Epoch 134/300\n",
            "88/88 [==============================] - 2s 21ms/step - loss: 0.0145\n",
            "Epoch 135/300\n",
            "88/88 [==============================] - 2s 21ms/step - loss: 0.0137\n",
            "Epoch 136/300\n",
            "88/88 [==============================] - 2s 21ms/step - loss: 0.0143\n",
            "Epoch 137/300\n",
            "88/88 [==============================] - 2s 21ms/step - loss: 0.0134\n",
            "Epoch 138/300\n",
            "88/88 [==============================] - 2s 21ms/step - loss: 0.0129\n",
            "Epoch 139/300\n",
            "88/88 [==============================] - 2s 22ms/step - loss: 0.0133\n",
            "Epoch 140/300\n",
            "88/88 [==============================] - 2s 21ms/step - loss: 0.0121\n",
            "Epoch 141/300\n",
            "88/88 [==============================] - 2s 21ms/step - loss: 0.0140\n",
            "Epoch 142/300\n",
            "88/88 [==============================] - 2s 21ms/step - loss: 0.0134\n",
            "Epoch 143/300\n",
            "88/88 [==============================] - 2s 22ms/step - loss: 0.0131\n",
            "Epoch 144/300\n",
            "88/88 [==============================] - 2s 21ms/step - loss: 0.0132\n",
            "Epoch 145/300\n",
            "88/88 [==============================] - 2s 22ms/step - loss: 0.0127\n",
            "Epoch 146/300\n",
            "88/88 [==============================] - 2s 21ms/step - loss: 0.0126\n",
            "Epoch 147/300\n",
            "88/88 [==============================] - 2s 21ms/step - loss: 0.0127\n",
            "Epoch 148/300\n",
            "88/88 [==============================] - 2s 21ms/step - loss: 0.0122\n",
            "Epoch 149/300\n",
            "88/88 [==============================] - 2s 21ms/step - loss: 0.0116\n",
            "Epoch 150/300\n",
            "88/88 [==============================] - 2s 22ms/step - loss: 0.0135\n",
            "Epoch 151/300\n",
            "88/88 [==============================] - 2s 21ms/step - loss: 0.0118\n",
            "Epoch 152/300\n",
            "88/88 [==============================] - 2s 21ms/step - loss: 0.0123\n",
            "Epoch 153/300\n",
            "88/88 [==============================] - 2s 21ms/step - loss: 0.0131\n",
            "Epoch 154/300\n",
            "88/88 [==============================] - 2s 21ms/step - loss: 0.0115\n",
            "Epoch 155/300\n",
            "88/88 [==============================] - 2s 21ms/step - loss: 0.0105\n",
            "Epoch 156/300\n",
            "88/88 [==============================] - 2s 21ms/step - loss: 0.0129\n",
            "Epoch 157/300\n",
            "88/88 [==============================] - 2s 21ms/step - loss: 0.0123\n",
            "Epoch 158/300\n",
            "88/88 [==============================] - 2s 22ms/step - loss: 0.0106\n",
            "Epoch 159/300\n",
            "88/88 [==============================] - 2s 21ms/step - loss: 0.0137\n",
            "Epoch 160/300\n",
            "88/88 [==============================] - 2s 21ms/step - loss: 0.0112\n",
            "Epoch 161/300\n",
            "88/88 [==============================] - 2s 21ms/step - loss: 0.0108\n",
            "Epoch 162/300\n",
            "88/88 [==============================] - 2s 21ms/step - loss: 0.0107\n",
            "Epoch 163/300\n",
            "88/88 [==============================] - 2s 21ms/step - loss: 0.0126\n",
            "Epoch 164/300\n",
            "88/88 [==============================] - 2s 21ms/step - loss: 0.0120\n",
            "Epoch 165/300\n",
            "88/88 [==============================] - 2s 21ms/step - loss: 0.0111\n",
            "Epoch 166/300\n",
            "88/88 [==============================] - 2s 21ms/step - loss: 0.0105\n",
            "Epoch 167/300\n",
            "88/88 [==============================] - 2s 21ms/step - loss: 0.0107\n",
            "Epoch 168/300\n",
            "88/88 [==============================] - 2s 21ms/step - loss: 0.0115\n",
            "Epoch 169/300\n",
            "88/88 [==============================] - 2s 21ms/step - loss: 0.0098\n",
            "Epoch 170/300\n",
            "88/88 [==============================] - 2s 21ms/step - loss: 0.0100\n",
            "Epoch 171/300\n",
            "88/88 [==============================] - 2s 21ms/step - loss: 0.0104\n",
            "Epoch 172/300\n",
            "88/88 [==============================] - 2s 21ms/step - loss: 0.0093\n",
            "Epoch 173/300\n",
            "88/88 [==============================] - 2s 21ms/step - loss: 0.0088\n",
            "Epoch 174/300\n",
            "88/88 [==============================] - 2s 21ms/step - loss: 0.0084\n",
            "Epoch 175/300\n",
            "88/88 [==============================] - 2s 21ms/step - loss: 0.0080\n",
            "Epoch 176/300\n",
            "88/88 [==============================] - 2s 22ms/step - loss: 0.0075\n",
            "Epoch 177/300\n",
            "88/88 [==============================] - 2s 21ms/step - loss: 0.0082\n",
            "Epoch 178/300\n",
            "88/88 [==============================] - 2s 23ms/step - loss: 0.0098\n",
            "Epoch 179/300\n",
            "88/88 [==============================] - 2s 21ms/step - loss: 0.0087\n",
            "Epoch 180/300\n",
            "88/88 [==============================] - 2s 22ms/step - loss: 0.0072\n",
            "Epoch 181/300\n",
            "88/88 [==============================] - 2s 21ms/step - loss: 0.0073\n",
            "Epoch 182/300\n",
            "88/88 [==============================] - 2s 22ms/step - loss: 0.0072\n",
            "Epoch 183/300\n",
            "88/88 [==============================] - 2s 21ms/step - loss: 0.0079\n",
            "Epoch 184/300\n",
            "88/88 [==============================] - 2s 21ms/step - loss: 0.0068\n",
            "Epoch 185/300\n",
            "88/88 [==============================] - 2s 21ms/step - loss: 0.0081\n",
            "Epoch 186/300\n",
            "88/88 [==============================] - 2s 21ms/step - loss: 0.0097\n",
            "Epoch 187/300\n",
            "88/88 [==============================] - 2s 21ms/step - loss: 0.0070\n",
            "Epoch 188/300\n",
            "88/88 [==============================] - 2s 21ms/step - loss: 0.0070\n",
            "Epoch 189/300\n",
            "88/88 [==============================] - 2s 21ms/step - loss: 0.0064\n",
            "Epoch 190/300\n",
            "88/88 [==============================] - 2s 21ms/step - loss: 0.0064\n",
            "Epoch 191/300\n",
            "88/88 [==============================] - 2s 21ms/step - loss: 0.0072\n",
            "Epoch 192/300\n",
            "88/88 [==============================] - 2s 21ms/step - loss: 0.0066\n",
            "Epoch 193/300\n",
            "88/88 [==============================] - 2s 21ms/step - loss: 0.0054\n",
            "Epoch 194/300\n",
            "88/88 [==============================] - 2s 21ms/step - loss: 0.0049\n",
            "Epoch 195/300\n",
            "88/88 [==============================] - 2s 21ms/step - loss: 0.0041\n",
            "Epoch 196/300\n",
            "88/88 [==============================] - 2s 21ms/step - loss: 0.0056\n",
            "Epoch 197/300\n",
            "88/88 [==============================] - 2s 21ms/step - loss: 0.0092\n",
            "Epoch 198/300\n",
            "88/88 [==============================] - 2s 21ms/step - loss: 0.0063\n",
            "Epoch 199/300\n",
            "88/88 [==============================] - 2s 21ms/step - loss: 0.0050\n",
            "Epoch 200/300\n",
            "88/88 [==============================] - 2s 22ms/step - loss: 0.0043\n",
            "Epoch 201/300\n",
            "88/88 [==============================] - 2s 22ms/step - loss: 0.0040\n",
            "Epoch 202/300\n",
            "88/88 [==============================] - 2s 22ms/step - loss: 0.0033\n",
            "Epoch 203/300\n",
            "88/88 [==============================] - 2s 21ms/step - loss: 0.0032\n",
            "Epoch 204/300\n",
            "88/88 [==============================] - 2s 22ms/step - loss: 0.0033\n",
            "Epoch 205/300\n",
            "88/88 [==============================] - 2s 21ms/step - loss: 0.0044\n",
            "Epoch 206/300\n",
            "88/88 [==============================] - 2s 21ms/step - loss: 0.0039\n",
            "Epoch 207/300\n",
            "88/88 [==============================] - 2s 21ms/step - loss: 0.0032\n",
            "Epoch 208/300\n",
            "88/88 [==============================] - 2s 22ms/step - loss: 0.0037\n",
            "Epoch 209/300\n",
            "88/88 [==============================] - 2s 21ms/step - loss: 0.0069\n",
            "Epoch 210/300\n",
            "88/88 [==============================] - 2s 21ms/step - loss: 0.0043\n",
            "Epoch 211/300\n",
            "88/88 [==============================] - 2s 21ms/step - loss: 0.0042\n",
            "Epoch 212/300\n",
            "88/88 [==============================] - 2s 21ms/step - loss: 0.0038\n",
            "Epoch 213/300\n",
            "88/88 [==============================] - 2s 22ms/step - loss: 0.0033\n",
            "Epoch 214/300\n",
            "88/88 [==============================] - 2s 22ms/step - loss: 0.0036\n",
            "Epoch 215/300\n",
            "88/88 [==============================] - 2s 22ms/step - loss: 0.0037\n",
            "Epoch 216/300\n",
            "88/88 [==============================] - 2s 21ms/step - loss: 0.0026\n",
            "Epoch 217/300\n",
            "88/88 [==============================] - 2s 21ms/step - loss: 0.0020\n",
            "Epoch 218/300\n",
            "88/88 [==============================] - 2s 21ms/step - loss: 0.0020\n",
            "Epoch 219/300\n",
            "88/88 [==============================] - 2s 20ms/step - loss: 0.0025\n",
            "Epoch 220/300\n",
            "88/88 [==============================] - 2s 21ms/step - loss: 0.0023\n",
            "Epoch 221/300\n",
            "88/88 [==============================] - 2s 21ms/step - loss: 0.0020\n",
            "Epoch 222/300\n",
            "88/88 [==============================] - 2s 21ms/step - loss: 0.0021\n",
            "Epoch 223/300\n",
            "88/88 [==============================] - 2s 21ms/step - loss: 0.0021\n",
            "Epoch 224/300\n",
            "88/88 [==============================] - 2s 21ms/step - loss: 0.0025\n",
            "Epoch 225/300\n",
            "88/88 [==============================] - 2s 21ms/step - loss: 0.0024\n",
            "Epoch 226/300\n",
            "88/88 [==============================] - 2s 21ms/step - loss: 0.0072\n",
            "Epoch 227/300\n",
            "88/88 [==============================] - 2s 22ms/step - loss: 0.0102\n",
            "Epoch 228/300\n",
            "88/88 [==============================] - 2s 21ms/step - loss: 0.0039\n",
            "Epoch 229/300\n",
            "88/88 [==============================] - 2s 21ms/step - loss: 0.0019\n",
            "Epoch 230/300\n",
            "88/88 [==============================] - 2s 24ms/step - loss: 0.0016\n",
            "Epoch 231/300\n",
            "88/88 [==============================] - 2s 21ms/step - loss: 0.0013\n",
            "Epoch 232/300\n",
            "88/88 [==============================] - 2s 21ms/step - loss: 0.0019\n",
            "Epoch 233/300\n",
            "88/88 [==============================] - 2s 21ms/step - loss: 0.0015\n",
            "Epoch 234/300\n",
            "88/88 [==============================] - 2s 21ms/step - loss: 0.0015\n",
            "Epoch 235/300\n",
            "88/88 [==============================] - 2s 21ms/step - loss: 0.0016\n",
            "Epoch 236/300\n",
            "88/88 [==============================] - 2s 23ms/step - loss: 0.0020\n",
            "Epoch 237/300\n",
            "88/88 [==============================] - 2s 22ms/step - loss: 0.0022\n",
            "Epoch 238/300\n",
            "88/88 [==============================] - 2s 21ms/step - loss: 0.0018\n",
            "Epoch 239/300\n",
            "88/88 [==============================] - 2s 21ms/step - loss: 0.0023\n",
            "Epoch 240/300\n",
            "88/88 [==============================] - 2s 21ms/step - loss: 0.0017\n",
            "Epoch 241/300\n",
            "88/88 [==============================] - 2s 21ms/step - loss: 0.0018\n",
            "Epoch 242/300\n",
            "88/88 [==============================] - 2s 22ms/step - loss: 0.0012\n",
            "Epoch 243/300\n",
            "88/88 [==============================] - 2s 21ms/step - loss: 0.0011\n",
            "Epoch 244/300\n",
            "88/88 [==============================] - 2s 21ms/step - loss: 7.8327e-04\n",
            "Epoch 245/300\n",
            "88/88 [==============================] - 2s 21ms/step - loss: 0.0011\n",
            "Epoch 246/300\n",
            "88/88 [==============================] - 2s 21ms/step - loss: 0.0034\n",
            "Epoch 247/300\n",
            "88/88 [==============================] - 2s 21ms/step - loss: 0.0039\n",
            "Epoch 248/300\n",
            "88/88 [==============================] - 2s 21ms/step - loss: 0.0018\n",
            "Epoch 249/300\n",
            "88/88 [==============================] - 2s 23ms/step - loss: 0.0016\n",
            "Epoch 250/300\n",
            "88/88 [==============================] - 2s 21ms/step - loss: 0.0025\n",
            "Epoch 251/300\n",
            "88/88 [==============================] - 2s 21ms/step - loss: 0.0022\n",
            "Epoch 252/300\n",
            "88/88 [==============================] - 2s 21ms/step - loss: 0.0011\n",
            "Epoch 253/300\n",
            "88/88 [==============================] - 2s 22ms/step - loss: 9.1243e-04\n",
            "Epoch 254/300\n",
            "88/88 [==============================] - 2s 21ms/step - loss: 7.2243e-04\n",
            "Epoch 255/300\n",
            "88/88 [==============================] - 2s 22ms/step - loss: 5.3797e-04\n",
            "Epoch 256/300\n",
            "88/88 [==============================] - 2s 22ms/step - loss: 0.0024\n",
            "Epoch 257/300\n",
            "88/88 [==============================] - 2s 21ms/step - loss: 0.0049\n",
            "Epoch 258/300\n",
            "88/88 [==============================] - 2s 21ms/step - loss: 0.0103\n",
            "Epoch 259/300\n",
            "88/88 [==============================] - 2s 21ms/step - loss: 0.0141\n",
            "Epoch 260/300\n",
            "88/88 [==============================] - 2s 22ms/step - loss: 0.0067\n",
            "Epoch 261/300\n",
            "88/88 [==============================] - 2s 22ms/step - loss: 0.0040\n",
            "Epoch 262/300\n",
            "88/88 [==============================] - 2s 21ms/step - loss: 0.0019\n",
            "Epoch 263/300\n",
            "88/88 [==============================] - 2s 22ms/step - loss: 9.5458e-04\n",
            "Epoch 264/300\n",
            "88/88 [==============================] - 2s 21ms/step - loss: 5.8139e-04\n",
            "Epoch 265/300\n",
            "88/88 [==============================] - 2s 21ms/step - loss: 4.0834e-04\n",
            "Epoch 266/300\n",
            "88/88 [==============================] - 2s 21ms/step - loss: 5.5866e-04\n",
            "Epoch 267/300\n",
            "88/88 [==============================] - 2s 23ms/step - loss: 5.8525e-04\n",
            "Epoch 268/300\n",
            "88/88 [==============================] - 2s 21ms/step - loss: 4.6444e-04\n",
            "Epoch 269/300\n",
            "88/88 [==============================] - 2s 21ms/step - loss: 3.8408e-04\n",
            "Epoch 270/300\n",
            "88/88 [==============================] - 2s 21ms/step - loss: 4.1991e-04\n",
            "Epoch 271/300\n",
            "88/88 [==============================] - 2s 21ms/step - loss: 2.9792e-04\n",
            "Epoch 272/300\n",
            "88/88 [==============================] - 2s 21ms/step - loss: 4.2078e-04\n",
            "Epoch 273/300\n",
            "88/88 [==============================] - 2s 21ms/step - loss: 2.8707e-04\n",
            "Epoch 274/300\n",
            "88/88 [==============================] - 2s 21ms/step - loss: 3.3671e-04\n",
            "Epoch 275/300\n",
            "88/88 [==============================] - 2s 22ms/step - loss: 8.3451e-04\n",
            "Epoch 276/300\n",
            "88/88 [==============================] - 2s 22ms/step - loss: 0.0019\n",
            "Epoch 277/300\n",
            "88/88 [==============================] - 2s 21ms/step - loss: 0.0063\n",
            "Epoch 278/300\n",
            "88/88 [==============================] - 2s 21ms/step - loss: 0.0087\n",
            "Epoch 279/300\n",
            "88/88 [==============================] - 2s 21ms/step - loss: 0.0074\n",
            "Epoch 280/300\n",
            "88/88 [==============================] - 2s 22ms/step - loss: 0.0028\n",
            "Epoch 281/300\n",
            "88/88 [==============================] - 2s 22ms/step - loss: 0.0025\n",
            "Epoch 282/300\n",
            "88/88 [==============================] - 2s 21ms/step - loss: 0.0016\n",
            "Epoch 283/300\n",
            "88/88 [==============================] - 2s 22ms/step - loss: 0.0011\n",
            "Epoch 284/300\n",
            "88/88 [==============================] - 2s 21ms/step - loss: 5.6482e-04\n",
            "Epoch 285/300\n",
            "88/88 [==============================] - 2s 21ms/step - loss: 4.7413e-04\n",
            "Epoch 286/300\n",
            "88/88 [==============================] - 2s 23ms/step - loss: 3.4215e-04\n",
            "Epoch 287/300\n",
            "88/88 [==============================] - 2s 21ms/step - loss: 2.9735e-04\n",
            "Epoch 288/300\n",
            "88/88 [==============================] - 2s 22ms/step - loss: 3.3764e-04\n",
            "Epoch 289/300\n",
            "88/88 [==============================] - 2s 21ms/step - loss: 3.0948e-04\n",
            "Epoch 290/300\n",
            "88/88 [==============================] - 2s 21ms/step - loss: 2.0573e-04\n",
            "Epoch 291/300\n",
            "88/88 [==============================] - 2s 21ms/step - loss: 2.3794e-04\n",
            "Epoch 292/300\n",
            "88/88 [==============================] - 2s 21ms/step - loss: 2.1331e-04\n",
            "Epoch 293/300\n",
            "88/88 [==============================] - 2s 22ms/step - loss: 1.6855e-04\n",
            "Epoch 294/300\n",
            "88/88 [==============================] - 2s 21ms/step - loss: 2.5991e-04\n",
            "Epoch 295/300\n",
            "88/88 [==============================] - 2s 22ms/step - loss: 3.0609e-04\n",
            "Epoch 296/300\n",
            "88/88 [==============================] - 2s 21ms/step - loss: 2.4080e-04\n",
            "Epoch 297/300\n",
            "88/88 [==============================] - 2s 22ms/step - loss: 4.7851e-04\n",
            "Epoch 298/300\n",
            "88/88 [==============================] - 2s 21ms/step - loss: 0.0012\n",
            "Epoch 299/300\n",
            "88/88 [==============================] - 2s 22ms/step - loss: 0.0032\n",
            "Epoch 300/300\n",
            "88/88 [==============================] - 2s 22ms/step - loss: 0.0047\n"
          ]
        },
        {
          "output_type": "execute_result",
          "data": {
            "text/plain": [
              "<keras.callbacks.History at 0x7fd9880b0150>"
            ]
          },
          "metadata": {},
          "execution_count": 101
        }
      ]
    },
    {
      "cell_type": "code",
      "source": [
        "loss_per_epoch = model.history.history['loss']\n",
        "plt.plot(range(len(loss_per_epoch)),loss_per_epoch)"
      ],
      "metadata": {
        "colab": {
          "base_uri": "https://localhost:8080/",
          "height": 282
        },
        "id": "c1vhoA7efh2Z",
        "outputId": "5c60df83-c9c1-48e8-9d44-4320a86b1532"
      },
      "execution_count": 102,
      "outputs": [
        {
          "output_type": "execute_result",
          "data": {
            "text/plain": [
              "[<matplotlib.lines.Line2D at 0x7fd986e61b10>]"
            ]
          },
          "metadata": {},
          "execution_count": 102
        },
        {
          "output_type": "display_data",
          "data": {
            "text/plain": [
              "<Figure size 432x288 with 1 Axes>"
            ],
            "image/png": "[encoded data removed]"
          },
          "metadata": {
            "needs_background": "light"
          }
        }
      ]
    },
    {
      "cell_type": "code",
      "source": [
        "last_train_batch = train_sc[-7:]"
      ],
      "metadata": {
        "id": "e3F3JXKqfh0m"
      },
      "execution_count": 103,
      "outputs": []
    },
    {
      "cell_type": "code",
      "source": [
        "last_train_batch = last_train_batch.reshape((1, n_input, n_features))"
      ],
      "metadata": {
        "id": "9T627h1vfhyi"
      },
      "execution_count": 104,
      "outputs": []
    },
    {
      "cell_type": "code",
      "source": [
        "model.predict(last_train_batch)"
      ],
      "metadata": {
        "colab": {
          "base_uri": "https://localhost:8080/"
        },
        "id": "joZRP-5sfhwL",
        "outputId": "06dcd69e-2232-4e63-d5cf-004fad0a877d"
      },
      "execution_count": 105,
      "outputs": [
        {
          "output_type": "execute_result",
          "data": {
            "text/plain": [
              "array([[0.49956015]], dtype=float32)"
            ]
          },
          "metadata": {},
          "execution_count": 105
        }
      ]
    },
    {
      "cell_type": "code",
      "source": [
        "test_sc[0]"
      ],
      "metadata": {
        "colab": {
          "base_uri": "https://localhost:8080/"
        },
        "id": "DLEfoQ1Gfhe7",
        "outputId": "67ae5973-f631-47fb-8e68-c9b1ea923978"
      },
      "execution_count": 106,
      "outputs": [
        {
          "output_type": "execute_result",
          "data": {
            "text/plain": [
              "array([0.16901408])"
            ]
          },
          "metadata": {},
          "execution_count": 106
        }
      ]
    },
    {
      "cell_type": "code",
      "source": [
        "test_predictions = []\n",
        "\n",
        "first_eval_batch = train_sc[-n_input:]\n",
        "current_batch = first_eval_batch.reshape((1, n_input, n_features))\n",
        "\n",
        "for i in range(len(test)):\n",
        "    \n",
        "    # get the prediction value for the first batch\n",
        "    current_pred = model.predict(current_batch)[0]\n",
        "    \n",
        "    # append the prediction into the array\n",
        "    test_predictions.append(current_pred) \n",
        "    \n",
        "    # use the prediction to update the batch and remove the first value\n",
        "    current_batch = np.append(current_batch[:,1:,:],[[current_pred]],axis=1)"
      ],
      "metadata": {
        "id": "3VeYeUgFfhbX"
      },
      "execution_count": 107,
      "outputs": []
    },
    {
      "cell_type": "code",
      "source": [
        "test_predictions"
      ],
      "metadata": {
        "colab": {
          "base_uri": "https://localhost:8080/"
        },
        "id": "-eVrRfEjfhZG",
        "outputId": "2e3c6e30-cd35-470f-8c8c-a4bd49093f6a"
      },
      "execution_count": 108,
      "outputs": [
        {
          "output_type": "execute_result",
          "data": {
            "text/plain": [
              "[array([0.49956015], dtype=float32),\n",
              " array([0.3270466], dtype=float32),\n",
              " array([0.18469274], dtype=float32),\n",
              " array([0.49757206], dtype=float32),\n",
              " array([0.4119783], dtype=float32),\n",
              " array([0.2568016], dtype=float32),\n",
              " array([0.35235795], dtype=float32),\n",
              " array([0.4357243], dtype=float32),\n",
              " array([0.38853696], dtype=float32),\n",
              " array([0.2552167], dtype=float32)]"
            ]
          },
          "metadata": {},
          "execution_count": 108
        }
      ]
    },
    {
      "cell_type": "code",
      "source": [
        "true_predictions = scaler.inverse_transform(test_predictions)"
      ],
      "metadata": {
        "id": "IM0ujg22fhUi"
      },
      "execution_count": 109,
      "outputs": []
    },
    {
      "cell_type": "code",
      "source": [
        "test['Predictions'] = true_predictions[:]"
      ],
      "metadata": {
        "colab": {
          "base_uri": "https://localhost:8080/"
        },
        "id": "sonQqbYYfhMx",
        "outputId": "19c2a229-f187-4a3e-ae8b-b01f814028ff"
      },
      "execution_count": 110,
      "outputs": [
        {
          "output_type": "stream",
          "name": "stderr",
          "text": [
            "/usr/local/lib/python3.7/dist-packages/ipykernel_launcher.py:1: SettingWithCopyWarning: \n",
            "A value is trying to be set on a copy of a slice from a DataFrame.\n",
            "Try using .loc[row_indexer,col_indexer] = value instead\n",
            "\n",
            "See the caveats in the documentation: https://pandas.pydata.org/pandas-docs/stable/user_guide/indexing.html#returning-a-view-versus-a-copy\n",
            "  \"\"\"Entry point for launching an IPython kernel.\n"
          ]
        }
      ]
    },
    {
      "cell_type": "code",
      "source": [
        "test.head()"
      ],
      "metadata": {
        "id": "ENI2agIkoYKh",
        "outputId": "95ebb48e-e39c-4c8d-c2ba-ff1bf0ac6a7c",
        "colab": {
          "base_uri": "https://localhost:8080/",
          "height": 237
        }
      },
      "execution_count": 111,
      "outputs": [
        {
          "output_type": "execute_result",
          "data": {
            "text/plain": [
              "            class1  Predictions\n",
              "dates                          \n",
              "2021-12-26      67    90.468770\n",
              "2022-01-02      69    78.220309\n",
              "2022-01-09      80    68.113185\n",
              "2022-01-16      80    90.327617\n",
              "2022-01-23      69    84.250460"
            ],
            "text/html": [
              "\n",
              "  <div id=\"df-95d35e94-64f2-4a1c-bdf5-1cfcf0b73f91\">\n",
              "    <div class=\"colab-df-container\">\n",
              "      <div>\n",
              "<style scoped>\n",
              "    .dataframe tbody tr th:only-of-type {\n",
              "        vertical-align: middle;\n",
              "    }\n",
              "\n",
              "    .dataframe tbody tr th {\n",
              "        vertical-align: top;\n",
              "    }\n",
              "\n",
              "    .dataframe thead th {\n",
              "        text-align: right;\n",
              "    }\n",
              "</style>\n",
              "<table border=\"1\" class=\"dataframe\">\n",
              "  <thead>\n",
              "    <tr style=\"text-align: right;\">\n",
              "      <th></th>\n",
              "      <th>class1</th>\n",
              "      <th>Predictions</th>\n",
              "    </tr>\n",
              "    <tr>\n",
              "      <th>dates</th>\n",
              "      <th></th>\n",
              "      <th></th>\n",
              "    </tr>\n",
              "  </thead>\n",
              "  <tbody>\n",
              "    <tr>\n",
              "      <th>2021-12-26</th>\n",
              "      <td>67</td>\n",
              "      <td>90.468770</td>\n",
              "    </tr>\n",
              "    <tr>\n",
              "      <th>2022-01-02</th>\n",
              "      <td>69</td>\n",
              "      <td>78.220309</td>\n",
              "    </tr>\n",
              "    <tr>\n",
              "      <th>2022-01-09</th>\n",
              "      <td>80</td>\n",
              "      <td>68.113185</td>\n",
              "    </tr>\n",
              "    <tr>\n",
              "      <th>2022-01-16</th>\n",
              "      <td>80</td>\n",
              "      <td>90.327617</td>\n",
              "    </tr>\n",
              "    <tr>\n",
              "      <th>2022-01-23</th>\n",
              "      <td>69</td>\n",
              "      <td>84.250460</td>\n",
              "    </tr>\n",
              "  </tbody>\n",
              "</table>\n",
              "</div>\n",
              "      <button class=\"colab-df-convert\" onclick=\"convertToInteractive('df-95d35e94-64f2-4a1c-bdf5-1cfcf0b73f91')\"\n",
              "              title=\"Convert this dataframe to an interactive table.\"\n",
              "              style=\"display:none;\">\n",
              "        \n",
              "  <svg xmlns=\"http://www.w3.org/2000/svg\" height=\"24px\"viewBox=\"0 0 24 24\"\n",
              "       width=\"24px\">\n",
              "    <path d=\"M0 0h24v24H0V0z\" fill=\"none\"/>\n",
              "    <path d=\"M18.56 5.44l.94 2.06.94-2.06 2.06-.94-2.06-.94-.94-2.06-.94 2.06-2.06.94zm-11 1L8.5 8.5l.94-2.06 2.06-.94-2.06-.94L8.5 2.5l-.94 2.06-2.06.94zm10 10l.94 2.06.94-2.06 2.06-.94-2.06-.94-.94-2.06-.94 2.06-2.06.94z\"/><path d=\"M17.41 7.96l-1.37-1.37c-.4-.4-.92-.59-1.43-.59-.52 0-1.04.2-1.43.59L10.3 9.45l-7.72 7.72c-.78.78-.78 2.05 0 2.83L4 21.41c.39.39.9.59 1.41.59.51 0 1.02-.2 1.41-.59l7.78-7.78 2.81-2.81c.8-.78.8-2.07 0-2.86zM5.41 20L4 18.59l7.72-7.72 1.47 1.35L5.41 20z\"/>\n",
              "  </svg>\n",
              "      </button>\n",
              "      \n",
              "  <style>\n",
              "    .colab-df-container {\n",
              "      display:flex;\n",
              "      flex-wrap:wrap;\n",
              "      gap: 12px;\n",
              "    }\n",
              "\n",
              "    .colab-df-convert {\n",
              "      background-color: #E8F0FE;\n",
              "      border: none;\n",
              "      border-radius: 50%;\n",
              "      cursor: pointer;\n",
              "      display: none;\n",
              "      fill: #1967D2;\n",
              "      height: 32px;\n",
              "      padding: 0 0 0 0;\n",
              "      width: 32px;\n",
              "    }\n",
              "\n",
              "    .colab-df-convert:hover {\n",
              "      background-color: #E2EBFA;\n",
              "      box-shadow: 0px 1px 2px rgba(60, 64, 67, 0.3), 0px 1px 3px 1px rgba(60, 64, 67, 0.15);\n",
              "      fill: #174EA6;\n",
              "    }\n",
              "\n",
              "    [theme=dark] .colab-df-convert {\n",
              "      background-color: #3B4455;\n",
              "      fill: #D2E3FC;\n",
              "    }\n",
              "\n",
              "    [theme=dark] .colab-df-convert:hover {\n",
              "      background-color: #434B5C;\n",
              "      box-shadow: 0px 1px 3px 1px rgba(0, 0, 0, 0.15);\n",
              "      filter: drop-shadow(0px 1px 2px rgba(0, 0, 0, 0.3));\n",
              "      fill: #FFFFFF;\n",
              "    }\n",
              "  </style>\n",
              "\n",
              "      <script>\n",
              "        const buttonEl =\n",
              "          document.querySelector('#df-95d35e94-64f2-4a1c-bdf5-1cfcf0b73f91 button.colab-df-convert');\n",
              "        buttonEl.style.display =\n",
              "          google.colab.kernel.accessAllowed ? 'block' : 'none';\n",
              "\n",
              "        async function convertToInteractive(key) {\n",
              "          const element = document.querySelector('#df-95d35e94-64f2-4a1c-bdf5-1cfcf0b73f91');\n",
              "          const dataTable =\n",
              "            await google.colab.kernel.invokeFunction('convertToInteractive',\n",
              "                                                     [key], {});\n",
              "          if (!dataTable) return;\n",
              "\n",
              "          const docLinkHtml = 'Like what you see? Visit the ' +\n",
              "            '<a target=\"_blank\" href=https://colab.research.google.com/notebooks/data_table.ipynb>data table notebook</a>'\n",
              "            + ' to learn more about interactive tables.';\n",
              "          element.innerHTML = '';\n",
              "          dataTable['output_type'] = 'display_data';\n",
              "          await google.colab.output.renderOutput(dataTable, element);\n",
              "          const docLink = document.createElement('div');\n",
              "          docLink.innerHTML = docLinkHtml;\n",
              "          element.appendChild(docLink);\n",
              "        }\n",
              "      </script>\n",
              "    </div>\n",
              "  </div>\n",
              "  "
            ]
          },
          "metadata": {},
          "execution_count": 111
        }
      ]
    },
    {
      "cell_type": "code",
      "source": [
        "test.plot(figsize=(14,5))"
      ],
      "metadata": {
        "colab": {
          "base_uri": "https://localhost:8080/",
          "height": 386
        },
        "id": "3UiEjRuTjAXj",
        "outputId": "62f2bac2-8969-4cd3-adfd-4996ad9d2181"
      },
      "execution_count": 112,
      "outputs": [
        {
          "output_type": "execute_result",
          "data": {
            "text/plain": [
              "<matplotlib.axes._subplots.AxesSubplot at 0x7fd987563bd0>"
            ]
          },
          "metadata": {},
          "execution_count": 112
        },
        {
          "output_type": "display_data",
          "data": {
            "text/plain": [
              "<Figure size 1008x360 with 1 Axes>"
            ],
            "image/png": "[encoded data removed]"
          },
          "metadata": {
            "needs_background": "light"
          }
        }
      ]
    },
    {
      "cell_type": "code",
      "source": [
        "from sklearn.metrics import mean_squared_error\n",
        "from math import sqrt\n",
        "rmse=sqrt(mean_squared_error(test['class1'],test['Predictions']))\n",
        "print(rmse)"
      ],
      "metadata": {
        "id": "KO6YuGjNoodB",
        "outputId": "72e170e9-c262-4fab-f16a-67ee6614dbbf",
        "colab": {
          "base_uri": "https://localhost:8080/"
        }
      },
      "execution_count": 113,
      "outputs": [
        {
          "output_type": "stream",
          "name": "stdout",
          "text": [
            "14.16909760949843\n"
          ]
        }
      ]
    }
  ]
}