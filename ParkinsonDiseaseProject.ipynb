{
  "nbformat": 4,
  "nbformat_minor": 0,
  "metadata": {
    "colab": {
      "name": "ParkinsonDiseaseProject.ipynb",
      "provenance": []
    },
    "kernelspec": {
      "name": "python3",
      "display_name": "Python 3"
    },
    "language_info": {
      "name": "python"
    }
  },
  "cells": [
    {
      "cell_type": "code",
      "execution_count": 2,
      "metadata": {
        "id": "VnUFxGRyGZfY"
      },
      "outputs": [],
      "source": [
        "import pandas as pd\n",
        "import numpy as np\n",
        "import matplotlib.pyplot as plt\n",
        "pd.set_option(\"display.max_columns\", None)"
      ]
    },
    {
      "cell_type": "code",
      "source": [
        "df=pd.read_csv('parkinsons.data')"
      ],
      "metadata": {
        "id": "VY40eAQKGmEa"
      },
      "execution_count": 5,
      "outputs": []
    },
    {
      "cell_type": "code",
      "source": [
        "df.sample(5)"
      ],
      "metadata": {
        "colab": {
          "base_uri": "https://localhost:8080/",
          "height": 270
        },
        "id": "NXHkSCkNG-hd",
        "outputId": "1e57e316-c9c5-4e26-8120-8c217916c673"
      },
      "execution_count": 6,
      "outputs": [
        {
          "output_type": "execute_result",
          "data": {
            "text/plain": [
              "               name  MDVP:Fo(Hz)  MDVP:Fhi(Hz)  MDVP:Flo(Hz)  MDVP:Jitter(%)  \\\n",
              "159  phon_R01_S39_1      127.930       138.752       112.173         0.00605   \n",
              "114  phon_R01_S26_6      206.327       226.355        92.020         0.00495   \n",
              "160  phon_R01_S39_2      114.238       124.393        77.022         0.00581   \n",
              "93   phon_R01_S22_3      152.125       161.469        76.596         0.00382   \n",
              "3    phon_R01_S01_4      116.676       137.871       111.366         0.00997   \n",
              "\n",
              "     MDVP:Jitter(Abs)  MDVP:RAP  MDVP:PPQ  Jitter:DDP  MDVP:Shimmer  \\\n",
              "159           0.00005   0.00321   0.00318     0.00962       0.03235   \n",
              "114           0.00002   0.00302   0.00246     0.00905       0.02105   \n",
              "160           0.00005   0.00299   0.00316     0.00896       0.04009   \n",
              "93            0.00003   0.00191   0.00226     0.00574       0.05925   \n",
              "3             0.00009   0.00502   0.00698     0.01505       0.05492   \n",
              "\n",
              "     MDVP:Shimmer(dB)  Shimmer:APQ3  Shimmer:APQ5  MDVP:APQ  Shimmer:DDA  \\\n",
              "159             0.339       0.01360       0.01650   0.03105      0.04079   \n",
              "114             0.209       0.01107       0.01284   0.01604      0.03320   \n",
              "160             0.406       0.01579       0.01994   0.04114      0.04736   \n",
              "93              0.637       0.03341       0.03794   0.04398      0.10024   \n",
              "3               0.517       0.02924       0.04005   0.03772      0.08771   \n",
              "\n",
              "         NHR     HNR  status      RPDE       DFA   spread1   spread2  \\\n",
              "159  0.02663  19.651       1  0.654945  0.675865 -5.498456  0.234196   \n",
              "114  0.01048  21.864       1  0.331508  0.715121 -6.729713  0.181701   \n",
              "160  0.02073  20.437       1  0.653139  0.694571 -5.185987  0.259229   \n",
              "93   0.01211  20.969       1  0.447456  0.697790 -6.152551  0.173520   \n",
              "3    0.01353  20.644       1  0.434969  0.819235 -4.117501  0.334147   \n",
              "\n",
              "           D2       PPE  \n",
              "159  2.103014  0.216638  \n",
              "114  2.938114  0.115515  \n",
              "160  2.151121  0.244948  \n",
              "93   2.080121  0.160809  \n",
              "3    2.405554  0.368975  "
            ],
            "text/html": [
              "\n",
              "  <div id=\"df-05ccd42d-a13d-4e72-8782-738931f8b496\">\n",
              "    <div class=\"colab-df-container\">\n",
              "      <div>\n",
              "<style scoped>\n",
              "    .dataframe tbody tr th:only-of-type {\n",
              "        vertical-align: middle;\n",
              "    }\n",
              "\n",
              "    .dataframe tbody tr th {\n",
              "        vertical-align: top;\n",
              "    }\n",
              "\n",
              "    .dataframe thead th {\n",
              "        text-align: right;\n",
              "    }\n",
              "</style>\n",
              "<table border=\"1\" class=\"dataframe\">\n",
              "  <thead>\n",
              "    <tr style=\"text-align: right;\">\n",
              "      <th></th>\n",
              "      <th>name</th>\n",
              "      <th>MDVP:Fo(Hz)</th>\n",
              "      <th>MDVP:Fhi(Hz)</th>\n",
              "      <th>MDVP:Flo(Hz)</th>\n",
              "      <th>MDVP:Jitter(%)</th>\n",
              "      <th>MDVP:Jitter(Abs)</th>\n",
              "      <th>MDVP:RAP</th>\n",
              "      <th>MDVP:PPQ</th>\n",
              "      <th>Jitter:DDP</th>\n",
              "      <th>MDVP:Shimmer</th>\n",
              "      <th>MDVP:Shimmer(dB)</th>\n",
              "      <th>Shimmer:APQ3</th>\n",
              "      <th>Shimmer:APQ5</th>\n",
              "      <th>MDVP:APQ</th>\n",
              "      <th>Shimmer:DDA</th>\n",
              "      <th>NHR</th>\n",
              "      <th>HNR</th>\n",
              "      <th>status</th>\n",
              "      <th>RPDE</th>\n",
              "      <th>DFA</th>\n",
              "      <th>spread1</th>\n",
              "      <th>spread2</th>\n",
              "      <th>D2</th>\n",
              "      <th>PPE</th>\n",
              "    </tr>\n",
              "  </thead>\n",
              "  <tbody>\n",
              "    <tr>\n",
              "      <th>159</th>\n",
              "      <td>phon_R01_S39_1</td>\n",
              "      <td>127.930</td>\n",
              "      <td>138.752</td>\n",
              "      <td>112.173</td>\n",
              "      <td>0.00605</td>\n",
              "      <td>0.00005</td>\n",
              "      <td>0.00321</td>\n",
              "      <td>0.00318</td>\n",
              "      <td>0.00962</td>\n",
              "      <td>0.03235</td>\n",
              "      <td>0.339</td>\n",
              "      <td>0.01360</td>\n",
              "      <td>0.01650</td>\n",
              "      <td>0.03105</td>\n",
              "      <td>0.04079</td>\n",
              "      <td>0.02663</td>\n",
              "      <td>19.651</td>\n",
              "      <td>1</td>\n",
              "      <td>0.654945</td>\n",
              "      <td>0.675865</td>\n",
              "      <td>-5.498456</td>\n",
              "      <td>0.234196</td>\n",
              "      <td>2.103014</td>\n",
              "      <td>0.216638</td>\n",
              "    </tr>\n",
              "    <tr>\n",
              "      <th>114</th>\n",
              "      <td>phon_R01_S26_6</td>\n",
              "      <td>206.327</td>\n",
              "      <td>226.355</td>\n",
              "      <td>92.020</td>\n",
              "      <td>0.00495</td>\n",
              "      <td>0.00002</td>\n",
              "      <td>0.00302</td>\n",
              "      <td>0.00246</td>\n",
              "      <td>0.00905</td>\n",
              "      <td>0.02105</td>\n",
              "      <td>0.209</td>\n",
              "      <td>0.01107</td>\n",
              "      <td>0.01284</td>\n",
              "      <td>0.01604</td>\n",
              "      <td>0.03320</td>\n",
              "      <td>0.01048</td>\n",
              "      <td>21.864</td>\n",
              "      <td>1</td>\n",
              "      <td>0.331508</td>\n",
              "      <td>0.715121</td>\n",
              "      <td>-6.729713</td>\n",
              "      <td>0.181701</td>\n",
              "      <td>2.938114</td>\n",
              "      <td>0.115515</td>\n",
              "    </tr>\n",
              "    <tr>\n",
              "      <th>160</th>\n",
              "      <td>phon_R01_S39_2</td>\n",
              "      <td>114.238</td>\n",
              "      <td>124.393</td>\n",
              "      <td>77.022</td>\n",
              "      <td>0.00581</td>\n",
              "      <td>0.00005</td>\n",
              "      <td>0.00299</td>\n",
              "      <td>0.00316</td>\n",
              "      <td>0.00896</td>\n",
              "      <td>0.04009</td>\n",
              "      <td>0.406</td>\n",
              "      <td>0.01579</td>\n",
              "      <td>0.01994</td>\n",
              "      <td>0.04114</td>\n",
              "      <td>0.04736</td>\n",
              "      <td>0.02073</td>\n",
              "      <td>20.437</td>\n",
              "      <td>1</td>\n",
              "      <td>0.653139</td>\n",
              "      <td>0.694571</td>\n",
              "      <td>-5.185987</td>\n",
              "      <td>0.259229</td>\n",
              "      <td>2.151121</td>\n",
              "      <td>0.244948</td>\n",
              "    </tr>\n",
              "    <tr>\n",
              "      <th>93</th>\n",
              "      <td>phon_R01_S22_3</td>\n",
              "      <td>152.125</td>\n",
              "      <td>161.469</td>\n",
              "      <td>76.596</td>\n",
              "      <td>0.00382</td>\n",
              "      <td>0.00003</td>\n",
              "      <td>0.00191</td>\n",
              "      <td>0.00226</td>\n",
              "      <td>0.00574</td>\n",
              "      <td>0.05925</td>\n",
              "      <td>0.637</td>\n",
              "      <td>0.03341</td>\n",
              "      <td>0.03794</td>\n",
              "      <td>0.04398</td>\n",
              "      <td>0.10024</td>\n",
              "      <td>0.01211</td>\n",
              "      <td>20.969</td>\n",
              "      <td>1</td>\n",
              "      <td>0.447456</td>\n",
              "      <td>0.697790</td>\n",
              "      <td>-6.152551</td>\n",
              "      <td>0.173520</td>\n",
              "      <td>2.080121</td>\n",
              "      <td>0.160809</td>\n",
              "    </tr>\n",
              "    <tr>\n",
              "      <th>3</th>\n",
              "      <td>phon_R01_S01_4</td>\n",
              "      <td>116.676</td>\n",
              "      <td>137.871</td>\n",
              "      <td>111.366</td>\n",
              "      <td>0.00997</td>\n",
              "      <td>0.00009</td>\n",
              "      <td>0.00502</td>\n",
              "      <td>0.00698</td>\n",
              "      <td>0.01505</td>\n",
              "      <td>0.05492</td>\n",
              "      <td>0.517</td>\n",
              "      <td>0.02924</td>\n",
              "      <td>0.04005</td>\n",
              "      <td>0.03772</td>\n",
              "      <td>0.08771</td>\n",
              "      <td>0.01353</td>\n",
              "      <td>20.644</td>\n",
              "      <td>1</td>\n",
              "      <td>0.434969</td>\n",
              "      <td>0.819235</td>\n",
              "      <td>-4.117501</td>\n",
              "      <td>0.334147</td>\n",
              "      <td>2.405554</td>\n",
              "      <td>0.368975</td>\n",
              "    </tr>\n",
              "  </tbody>\n",
              "</table>\n",
              "</div>\n",
              "      <button class=\"colab-df-convert\" onclick=\"convertToInteractive('df-05ccd42d-a13d-4e72-8782-738931f8b496')\"\n",
              "              title=\"Convert this dataframe to an interactive table.\"\n",
              "              style=\"display:none;\">\n",
              "        \n",
              "  <svg xmlns=\"http://www.w3.org/2000/svg\" height=\"24px\"viewBox=\"0 0 24 24\"\n",
              "       width=\"24px\">\n",
              "    <path d=\"M0 0h24v24H0V0z\" fill=\"none\"/>\n",
              "    <path d=\"M18.56 5.44l.94 2.06.94-2.06 2.06-.94-2.06-.94-.94-2.06-.94 2.06-2.06.94zm-11 1L8.5 8.5l.94-2.06 2.06-.94-2.06-.94L8.5 2.5l-.94 2.06-2.06.94zm10 10l.94 2.06.94-2.06 2.06-.94-2.06-.94-.94-2.06-.94 2.06-2.06.94z\"/><path d=\"M17.41 7.96l-1.37-1.37c-.4-.4-.92-.59-1.43-.59-.52 0-1.04.2-1.43.59L10.3 9.45l-7.72 7.72c-.78.78-.78 2.05 0 2.83L4 21.41c.39.39.9.59 1.41.59.51 0 1.02-.2 1.41-.59l7.78-7.78 2.81-2.81c.8-.78.8-2.07 0-2.86zM5.41 20L4 18.59l7.72-7.72 1.47 1.35L5.41 20z\"/>\n",
              "  </svg>\n",
              "      </button>\n",
              "      \n",
              "  <style>\n",
              "    .colab-df-container {\n",
              "      display:flex;\n",
              "      flex-wrap:wrap;\n",
              "      gap: 12px;\n",
              "    }\n",
              "\n",
              "    .colab-df-convert {\n",
              "      background-color: #E8F0FE;\n",
              "      border: none;\n",
              "      border-radius: 50%;\n",
              "      cursor: pointer;\n",
              "      display: none;\n",
              "      fill: #1967D2;\n",
              "      height: 32px;\n",
              "      padding: 0 0 0 0;\n",
              "      width: 32px;\n",
              "    }\n",
              "\n",
              "    .colab-df-convert:hover {\n",
              "      background-color: #E2EBFA;\n",
              "      box-shadow: 0px 1px 2px rgba(60, 64, 67, 0.3), 0px 1px 3px 1px rgba(60, 64, 67, 0.15);\n",
              "      fill: #174EA6;\n",
              "    }\n",
              "\n",
              "    [theme=dark] .colab-df-convert {\n",
              "      background-color: #3B4455;\n",
              "      fill: #D2E3FC;\n",
              "    }\n",
              "\n",
              "    [theme=dark] .colab-df-convert:hover {\n",
              "      background-color: #434B5C;\n",
              "      box-shadow: 0px 1px 3px 1px rgba(0, 0, 0, 0.15);\n",
              "      filter: drop-shadow(0px 1px 2px rgba(0, 0, 0, 0.3));\n",
              "      fill: #FFFFFF;\n",
              "    }\n",
              "  </style>\n",
              "\n",
              "      <script>\n",
              "        const buttonEl =\n",
              "          document.querySelector('#df-05ccd42d-a13d-4e72-8782-738931f8b496 button.colab-df-convert');\n",
              "        buttonEl.style.display =\n",
              "          google.colab.kernel.accessAllowed ? 'block' : 'none';\n",
              "\n",
              "        async function convertToInteractive(key) {\n",
              "          const element = document.querySelector('#df-05ccd42d-a13d-4e72-8782-738931f8b496');\n",
              "          const dataTable =\n",
              "            await google.colab.kernel.invokeFunction('convertToInteractive',\n",
              "                                                     [key], {});\n",
              "          if (!dataTable) return;\n",
              "\n",
              "          const docLinkHtml = 'Like what you see? Visit the ' +\n",
              "            '<a target=\"_blank\" href=https://colab.research.google.com/notebooks/data_table.ipynb>data table notebook</a>'\n",
              "            + ' to learn more about interactive tables.';\n",
              "          element.innerHTML = '';\n",
              "          dataTable['output_type'] = 'display_data';\n",
              "          await google.colab.output.renderOutput(dataTable, element);\n",
              "          const docLink = document.createElement('div');\n",
              "          docLink.innerHTML = docLinkHtml;\n",
              "          element.appendChild(docLink);\n",
              "        }\n",
              "      </script>\n",
              "    </div>\n",
              "  </div>\n",
              "  "
            ]
          },
          "metadata": {},
          "execution_count": 6
        }
      ]
    },
    {
      "cell_type": "code",
      "source": [
        "!pip install sklearn xgboost"
      ],
      "metadata": {
        "id": "Mxenld4LL6jR",
        "colab": {
          "base_uri": "https://localhost:8080/"
        },
        "outputId": "54f7a540-498c-4a77-b53f-9b20bedb807e"
      },
      "execution_count": 9,
      "outputs": [
        {
          "output_type": "stream",
          "name": "stdout",
          "text": [
            "Looking in indexes: https://pypi.org/simple, https://us-python.pkg.dev/colab-wheels/public/simple/\n",
            "Requirement already satisfied: sklearn in /usr/local/lib/python3.7/dist-packages (0.0)\n",
            "Requirement already satisfied: xgboost in /usr/local/lib/python3.7/dist-packages (0.90)\n",
            "Requirement already satisfied: scikit-learn in /usr/local/lib/python3.7/dist-packages (from sklearn) (1.0.2)\n",
            "Requirement already satisfied: numpy in /usr/local/lib/python3.7/dist-packages (from xgboost) (1.21.6)\n",
            "Requirement already satisfied: scipy in /usr/local/lib/python3.7/dist-packages (from xgboost) (1.7.3)\n",
            "Requirement already satisfied: joblib>=0.11 in /usr/local/lib/python3.7/dist-packages (from scikit-learn->sklearn) (1.1.0)\n",
            "Requirement already satisfied: threadpoolctl>=2.0.0 in /usr/local/lib/python3.7/dist-packages (from scikit-learn->sklearn) (3.1.0)\n"
          ]
        }
      ]
    },
    {
      "cell_type": "code",
      "source": [
        "import numpy as np\n",
        "import pandas as pd\n",
        "import os, sys\n",
        "from sklearn.preprocessing import MinMaxScaler\n",
        "from xgboost import XGBClassifier\n",
        "from sklearn.model_selection import train_test_split\n",
        "from sklearn.metrics import accuracy_score"
      ],
      "metadata": {
        "id": "zZy6kzvDfrq_"
      },
      "execution_count": 10,
      "outputs": []
    },
    {
      "cell_type": "code",
      "source": [
        "features=df.loc[:,df.columns!='status'].values[:,1:]\n",
        "labels=df.loc[:,'status'].values"
      ],
      "metadata": {
        "id": "O_LFii-cf5Qk"
      },
      "execution_count": 11,
      "outputs": []
    },
    {
      "cell_type": "code",
      "source": [
        "print(labels[labels==1].shape[0], labels[labels==0].shape[0])"
      ],
      "metadata": {
        "colab": {
          "base_uri": "https://localhost:8080/"
        },
        "id": "_eKoE1bggAt2",
        "outputId": "35c9e0bb-1a8d-4950-eed3-47a8c62a52ab"
      },
      "execution_count": 12,
      "outputs": [
        {
          "output_type": "stream",
          "name": "stdout",
          "text": [
            "147 48\n"
          ]
        }
      ]
    },
    {
      "cell_type": "code",
      "source": [
        "scaler=MinMaxScaler((-1,1))"
      ],
      "metadata": {
        "id": "vTe1wSCVgXbr"
      },
      "execution_count": 13,
      "outputs": []
    },
    {
      "cell_type": "code",
      "source": [
        "x_train,x_test,y_train,y_test=train_test_split(features, labels, test_size=0.2, random_state=7)"
      ],
      "metadata": {
        "id": "wBhEEZWkgXYF"
      },
      "execution_count": 14,
      "outputs": []
    },
    {
      "cell_type": "code",
      "source": [
        "scaler.fit(x_train)"
      ],
      "metadata": {
        "colab": {
          "base_uri": "https://localhost:8080/"
        },
        "id": "5k0jPJkMgXV9",
        "outputId": "a89681fc-433e-44e3-a426-45da6202d879"
      },
      "execution_count": 15,
      "outputs": [
        {
          "output_type": "execute_result",
          "data": {
            "text/plain": [
              "MinMaxScaler(feature_range=(-1, 1))"
            ]
          },
          "metadata": {},
          "execution_count": 15
        }
      ]
    },
    {
      "cell_type": "code",
      "source": [
        "x_train = scaler.transform(x_train)\n",
        "x_test = scaler.transform(x_test)"
      ],
      "metadata": {
        "id": "jrOsN7o6gXTk"
      },
      "execution_count": 16,
      "outputs": []
    },
    {
      "cell_type": "code",
      "source": [
        "model=XGBClassifier()\n",
        "model.fit(x_train,y_train)"
      ],
      "metadata": {
        "colab": {
          "base_uri": "https://localhost:8080/"
        },
        "id": "E5RkcRLDgXRO",
        "outputId": "e0cc920a-8a63-44ed-9a10-6a82e020931c"
      },
      "execution_count": 17,
      "outputs": [
        {
          "output_type": "execute_result",
          "data": {
            "text/plain": [
              "XGBClassifier()"
            ]
          },
          "metadata": {},
          "execution_count": 17
        }
      ]
    },
    {
      "cell_type": "code",
      "source": [
        "y_pred=model.predict(x_test)\n",
        "print(accuracy_score(y_test, y_pred)*100)"
      ],
      "metadata": {
        "colab": {
          "base_uri": "https://localhost:8080/"
        },
        "id": "-CxqPQa2gXOr",
        "outputId": "89581f58-f191-4a36-d0e1-ae224cb93015"
      },
      "execution_count": 18,
      "outputs": [
        {
          "output_type": "stream",
          "name": "stdout",
          "text": [
            "94.87179487179486\n"
          ]
        }
      ]
    },
    {
      "cell_type": "code",
      "source": [
        ""
      ],
      "metadata": {
        "id": "5F0luRzGgXMV"
      },
      "execution_count": null,
      "outputs": []
    },
    {
      "cell_type": "code",
      "source": [
        ""
      ],
      "metadata": {
        "id": "XTLDnlHNgXJz"
      },
      "execution_count": null,
      "outputs": []
    }
  ]
}